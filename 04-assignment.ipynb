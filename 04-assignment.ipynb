{
 "cells": [
  {
   "cell_type": "markdown",
   "metadata": {},
   "source": [
    "# QTM 350 - Data Science Computing\n",
    "\n",
    "## Assignment 04: Advanced Git\n",
    "### Due 02 October 2024\n",
    "\n",
    "In this assignment, you will explore Git in more depth, focusing on commands we have not covered in class. You should research how to solve each task using specific Git commands. Feel free to use any tools you prefer to complete the assignment. Explain each command in simple terms. Of course, you are welcome to test them as well! If you have any questions, please let me know.\n",
    "\n",
    "### Questions\n",
    "\n",
    "1. What command would you use to display all the commits that have not yet been pushed to the remote repository?\n",
    "\n",
    "- `git log --branches --not --remotes`\n",
    "this command shows commits that are reachable from local branch but not reachable from any remote branch. \n",
    "- The `-not` option negates the commits reachable from remote branches.\n",
    "\n",
    "2. Explain the purpose of the `git tag` command.\n",
    "- it is used to create,list and manage tags. A tag is an object referencing a specifc commit within project history. \n",
    "- `git tag` display a list of all tags in the repository.\n",
    "- `git tag tag_name` creates a tag named tag_name\n",
    "\n",
    "3. How do you remove a file from the repository history?\n",
    "- can use BFG Repo-Cleaner, but need to download it first\n",
    "- example: `bfg --delete-files 'file_to_remove'`\n",
    "\n",
    "4. How do you temporarily save your changes without committing them?\n",
    "- use `git stash`. It can locally store recent changes in a separate area. \n",
    "\n",
    "5. How do you amend the most recent commit message?\n",
    "- use `git commit --amend`. This will open a text editor with current commit message and then you can modify it. \n",
    "6. How can you split a commit into multiple commits?\n",
    "- if i want to split the most recent commit, then use `git reset HEAD~`. Then you can create different commits\n",
    "- if the commit is not the lastest one, you need to find commit hash with `git reflog`. Then use `git rebase -1 HASH` to start an interactive rebase. Then you need to mark commit for editing, change the word pick to edit for commit you want to split. Then save and close the editor. After that, you can reset the state to previous commit with `git reset HEAD~`. After creating different commits, you can finish rebase by tying `git rebase --continue`\n",
    "\n",
    "7. How do you display the changes between two branches?\n",
    "- `git diff` can be used to display differences between working directory, staging area, commits, branches or tags.\n",
    "- example: `git diff branch1..branch2`\n",
    "8. What command would you use to see which remote repository a local repository is connected to?\n",
    "- use `git remote`, can show which remotes are currently connected to\n",
    "- if want to see the link of remote repository, can use `git remote -v`\n",
    "   \n",
    "9.  Explain the difference between `git merge` and `git rebase`.\n",
    "- the main difference is that `git merge` combines changes from one branch into another branch, while `git rebase` moves changes from one branch to another. \n",
    "- `git merge` preseves the full history while `git rebase` rewrites history. \n",
    "10. How can you search for a specific commit message?\n",
    "- use `git log --grep=\"search_term\"`. this allows you to search commit message through keywords\n",
    "- for example `git log --grep=\"fix bug\"` display all commits that contains phrase fix bug\n"
   ]
  }
 ],
 "metadata": {
  "language_info": {
   "name": "python"
  }
 },
 "nbformat": 4,
 "nbformat_minor": 2
}
